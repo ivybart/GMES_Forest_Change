{
 "cells": [
  {
   "cell_type": "code",
   "execution_count": null,
   "id": "cce902a1-c7db-475b-aa26-57db19cc5787",
   "metadata": {},
   "outputs": [],
   "source": [
    "# First install the sen2classification library using Pip if you dont have it by uncommenting the code below\n",
    "\n",
    "#pip install sen2classification"
   ]
  },
  {
   "cell_type": "code",
   "execution_count": null,
   "id": "a09c0e47-c57d-47b5-8bfe-e4b16dfe49a8",
   "metadata": {},
   "outputs": [],
   "source": [
    "# Import required packages\n",
    "import os\n",
    "import rasterio\n",
    "\n",
    "# Import the ALCC (Automatic Land Cover Classification) class\n",
    "from sen2classification import ALCC"
   ]
  },
  {
   "cell_type": "markdown",
   "id": "2f03a009-65b6-4572-a40a-9ce3452e3c2e",
   "metadata": {},
   "source": [
    "In this case we will utilize the ALCC algorithm as the mode of land cover classification. The output will be a tiff image saved in the current working directory with the following classes;\n",
    "            0 = no data\n",
    "            1 = water\n",
    "            2 = low vegetation\n",
    "            3 = high vegetation\n",
    "            4 = soil\n",
    "            5 = built up\n",
    "The high vegetation in this case is attributed to forest cover and semi-natural areas"
   ]
  },
  {
   "cell_type": "code",
   "execution_count": null,
   "id": "a70122e5-6af5-4ead-a35f-d8cf36888ef1",
   "metadata": {},
   "outputs": [],
   "source": [
    "# Specify the path to your unzipped Sentinel-2 L2A product (.SAFE folder)\n",
    "alcc = ALCC(product='../S2B_MSIL2A_20240217T074009_N0510_R092_T37MBV_20240217T100351.SAFE/S2B_MSIL2A_20240217T074009_N0510_R092_T37MBV_20240217T100351.SAFE', product_type='L2A')\n",
    "\n",
    "# Set up band file paths\n",
    "alcc.setup_bands()\n",
    "\n",
    "# Resample SWIR bands to 10m resolution\n",
    "alcc.resample_swir_to_10m()\n",
    "\n",
    "# Calculate spectral indices (e.g., AWEI, NDVI, NDTI, BAEI)\n",
    "alcc.calculate_spectral_indices()\n",
    "\n",
    "# Run the ALCC algorithm\n",
    "# The final classification raster will be saved in the current working directory\n",
    "alcc.run()"
   ]
  }
 ],
 "metadata": {
  "kernelspec": {
   "display_name": "Python 3 (ipykernel)",
   "language": "python",
   "name": "python3"
  },
  "language_info": {
   "codemirror_mode": {
    "name": "ipython",
    "version": 3
   },
   "file_extension": ".py",
   "mimetype": "text/x-python",
   "name": "python",
   "nbconvert_exporter": "python",
   "pygments_lexer": "ipython3",
   "version": "3.11.0"
  }
 },
 "nbformat": 4,
 "nbformat_minor": 5
}
